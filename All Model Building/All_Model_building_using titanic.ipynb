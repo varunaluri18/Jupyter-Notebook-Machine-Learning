{
  "nbformat": 4,
  "nbformat_minor": 0,
  "metadata": {
    "colab": {
      "name": "All Model building .ipynb",
      "provenance": []
    },
    "kernelspec": {
      "name": "python3",
      "display_name": "Python 3"
    }
  },
  "cells": [
    {
      "cell_type": "code",
      "metadata": {
        "id": "xXuqIQ0PJxG2",
        "colab_type": "code",
        "colab": {}
      },
      "source": [
        "import pandas as pd\n",
        "import numpy as np\n",
        "import seaborn as sns\n",
        "import matplotlib.pyplot as plt\n",
        "\n",
        "#h-clustering\n",
        "import scipy.cluster.hierarchy as sch\n",
        "from scipy.cluster.hierarchy import dendrogram, linkage\n",
        "from sklearn.cluster import AgglomerativeClustering\n",
        "\n",
        "#k-means clusterinfg\n",
        "from sklearn.cluster import KMeans\n",
        "\n",
        "#PCA\n",
        "from sklearn.decomposition import PCA\n",
        "\n",
        "#Regression with L1 & L2\n",
        "import statsmodels.formula.api as smf\n",
        "from sklearn.linear_model import LinearRegression\n",
        "from sklearn.linear_model import LogisticRegression\n",
        "from sklearn.tree import DecisionTreeRegressor\n",
        "from sklearn.ensemble import RandomForestRegressor\n",
        "from sklearn.linear_model import Ridge\n",
        "from sklearn.linear_model import Lasso\n",
        "\n",
        "#Classification\n",
        "from sklearn.svm import SVC\n",
        "from sklearn.naive_bayes import GaussianNB\n",
        "from sklearn.neighbors import KNeighborsClassifier\n",
        "from sklearn.tree import DecisionTreeClassifier\n",
        "from sklearn.ensemble import RandomForestClassifier\n",
        "\n",
        "#Other for model building\n",
        "from sklearn.metrics import accuracy_score,confusion_matrix,classification_report\n",
        "from sklearn import metrics\n",
        "from sklearn.model_selection import train_test_split\n",
        "from sklearn.model_selection import RandomizedSearchCV\n",
        "from sklearn.model_selection import GridSearchCV\n",
        "from sklearn.model_selection import cross_val_score"
      ],
      "execution_count": 0,
      "outputs": []
    },
    {
      "cell_type": "code",
      "metadata": {
        "id": "KfVGkhSiKGZ5",
        "colab_type": "code",
        "colab": {
          "base_uri": "https://localhost:8080/",
          "height": 354
        },
        "outputId": "a26dc311-df23-4aba-9fd7-22c9085ea1c8"
      },
      "source": [
        "var=pd.read_csv('/content/titanic.csv')\n",
        "var['Age'] = var['Age'].fillna(var['Age'].mean())\n",
        "var['Cabin'] = var.Cabin.fillna(0)\n",
        "print(sns.heatmap(var.isnull(),yticklabels=False))\n",
        "varun=var\n",
        "varun.drop(['Name','Ticket','Cabin'],axis=1,inplace = True)\n",
        "print(varun.shape)"
      ],
      "execution_count": 2,
      "outputs": [
        {
          "output_type": "stream",
          "text": [
            "AxesSubplot(0.125,0.125;0.62x0.755)\n",
            "(891, 9)\n"
          ],
          "name": "stdout"
        },
        {
          "output_type": "display_data",
          "data": {
            "image/png": "[encoded data removed]",
            "text/plain": [
              "<Figure size 432x288 with 2 Axes>"
            ]
          },
          "metadata": {
            "tags": []
          }
        }
      ]
    },
    {
      "cell_type": "code",
      "metadata": {
        "id": "mEHfSu1sKfiL",
        "colab_type": "code",
        "colab": {
          "base_uri": "https://localhost:8080/",
          "height": 85
        },
        "outputId": "d59eb86f-d0e1-45b3-8ed3-86d19839919b"
      },
      "source": [
        "a=pd.get_dummies(varun['Sex'])\n",
        "b=pd.get_dummies(varun['Embarked'])\n",
        "varun=pd.concat([varun,a,b],axis='columns')\n",
        "print(varun.shape)\n",
        "varun.drop(['Sex','Embarked'],axis=1,inplace = True)\n",
        "varun.head(10)\n",
        "varun.drop(['PassengerId','Survived'],axis=1,inplace = True)\n",
        "print(varun.head(2))"
      ],
      "execution_count": 3,
      "outputs": [
        {
          "output_type": "stream",
          "text": [
            "(891, 14)\n",
            "   Pclass   Age  SibSp  Parch     Fare  female  male  C  Q  S\n",
            "0       3  22.0      1      0   7.2500       0     1  0  0  1\n",
            "1       1  38.0      1      0  71.2833       1     0  1  0  0\n"
          ],
          "name": "stdout"
        }
      ]
    },
    {
      "cell_type": "code",
      "metadata": {
        "id": "Qj5k1WfEKlqd",
        "colab_type": "code",
        "colab": {}
      },
      "source": [
        "y=var['Survived']\n",
        "X=varun"
      ],
      "execution_count": 0,
      "outputs": []
    },
    {
      "cell_type": "code",
      "metadata": {
        "id": "LpeEnSGmKnMF",
        "colab_type": "code",
        "colab": {}
      },
      "source": [
        "from sklearn.model_selection import train_test_split\n",
        "X_train,X_test,y_train,y_test = train_test_split(X,y,test_size=0.20,random_state=1)"
      ],
      "execution_count": 0,
      "outputs": []
    },
    {
      "cell_type": "code",
      "metadata": {
        "id": "dCS3m8p5KrJ9",
        "colab_type": "code",
        "colab": {}
      },
      "source": [
        "#DecisionTreeClassifier"
      ],
      "execution_count": 0,
      "outputs": []
    },
    {
      "cell_type": "code",
      "metadata": {
        "id": "JZw73hTKK6HD",
        "colab_type": "code",
        "colab": {
          "base_uri": "https://localhost:8080/",
          "height": 690
        },
        "outputId": "b08ba2ab-fd3f-421e-855f-162b6b18eb38"
      },
      "source": [
        "from sklearn.tree import DecisionTreeClassifier\n",
        "tree = DecisionTreeClassifier(criterion = 'entropy', random_state = 0)\n",
        "tree.fit(X_train,y_train)\n",
        "y_pred=tree.predict(X_test)\n",
        "\n",
        "from sklearn.metrics import confusion_matrix,accuracy_score,classification_report\n",
        "cm=confusion_matrix(y_pred,y_test)\n",
        "print('confusion matrix')\n",
        "print(cm)\n",
        "print()\n",
        "ac=accuracy_score(y_pred,y_test)\n",
        "print('accuracy score')\n",
        "print(ac)\n",
        "print()  \n",
        "from sklearn.model_selection import cross_val_score\n",
        "score=cross_val_score(tree,X,y,cv=5)\n",
        "print('cross-validation')\n",
        "print(score)\n",
        "print(max(score))\n",
        "print()\n",
        "cr=classification_report(y_test,y_pred)\n",
        "print('Classification-report')\n",
        "print(cr)\n",
        "print()\n",
        "from sklearn import metrics\n",
        "print('MAE:', metrics.mean_absolute_error(y_test,y_pred))\n",
        "print('MSE:', metrics.mean_squared_error(y_test,y_pred))\n",
        "print('RMSE:', np.sqrt(metrics.mean_squared_error(y_test,y_pred)))\n",
        "\n",
        "feat_importances = pd.Series(tree.feature_importances_, index=X.columns)\n",
        "feat_importances.nlargest(10).plot(kind='barh')\n",
        "plt.show()"
      ],
      "execution_count": 9,
      "outputs": [
        {
          "output_type": "stream",
          "text": [
            "confusion matrix\n",
            "[[89 23]\n",
            " [17 50]]\n",
            "\n",
            "accuracy score\n",
            "0.776536312849162\n",
            "\n",
            "cross-validation\n",
            "[0.74860335 0.78089888 0.76966292 0.76404494 0.78089888]\n",
            "0.7808988764044944\n",
            "\n",
            "Classification-report\n",
            "              precision    recall  f1-score   support\n",
            "\n",
            "           0       0.79      0.84      0.82       106\n",
            "           1       0.75      0.68      0.71        73\n",
            "\n",
            "    accuracy                           0.78       179\n",
            "   macro avg       0.77      0.76      0.77       179\n",
            "weighted avg       0.77      0.78      0.77       179\n",
            "\n",
            "\n",
            "MAE: 0.22346368715083798\n",
            "MSE: 0.22346368715083798\n",
            "RMSE: 0.47271945924706543\n"
          ],
          "name": "stdout"
        },
        {
          "output_type": "display_data",
          "data": {
            "image/png": "[encoded data removed]",
            "text/plain": [
              "<Figure size 432x288 with 1 Axes>"
            ]
          },
          "metadata": {
            "tags": []
          }
        }
      ]
    },
    {
      "cell_type": "code",
      "metadata": {
        "id": "YhoH3WnwK9JP",
        "colab_type": "code",
        "colab": {}
      },
      "source": [
        "# RandomForestClassifier"
      ],
      "execution_count": 0,
      "outputs": []
    },
    {
      "cell_type": "code",
      "metadata": {
        "id": "x2G5syBiLBEu",
        "colab_type": "code",
        "colab": {
          "base_uri": "https://localhost:8080/",
          "height": 690
        },
        "outputId": "d3551c22-4774-4fb1-c91e-c81b21f8874e"
      },
      "source": [
        "from sklearn.ensemble import RandomForestClassifier\n",
        "forest = RandomForestClassifier(n_estimators = 10, criterion = 'entropy', random_state = 0)\n",
        "forest.fit(X_train,y_train)\n",
        "y_pred=forest.predict(X_test)\n",
        "\n",
        "from sklearn.metrics import confusion_matrix,accuracy_score,classification_report\n",
        "cm=confusion_matrix(y_pred,y_test)\n",
        "print('confusion matrix')\n",
        "print(cm)\n",
        "print()\n",
        "ac=accuracy_score(y_pred,y_test)\n",
        "print('accuracy score')\n",
        "print(ac)\n",
        "print()\n",
        "from sklearn.model_selection import cross_val_score\n",
        "score=cross_val_score(forest,X,y,cv=5)\n",
        "print('cross-validation')\n",
        "print(score)\n",
        "print(max(score))\n",
        "print()\n",
        "cr=classification_report(y_test,y_pred)\n",
        "print('Classification-report')\n",
        "print(cr)\n",
        "print()\n",
        "from sklearn import metrics\n",
        "print('MAE:', metrics.mean_absolute_error(y_test,y_pred))\n",
        "print('MSE:', metrics.mean_squared_error(y_test,y_pred))\n",
        "print('RMSE:', np.sqrt(metrics.mean_squared_error(y_test,y_pred)))\n",
        "feat_importances = pd.Series(forest.feature_importances_, index=X.columns)\n",
        "feat_importances.nlargest(10).plot(kind='barh')\n",
        "plt.show()"
      ],
      "execution_count": 11,
      "outputs": [
        {
          "output_type": "stream",
          "text": [
            "confusion matrix\n",
            "[[96 27]\n",
            " [10 46]]\n",
            "\n",
            "accuracy score\n",
            "0.7932960893854749\n",
            "\n",
            "cross-validation\n",
            "[0.79888268 0.81460674 0.8258427  0.76966292 0.81460674]\n",
            "0.8258426966292135\n",
            "\n",
            "Classification-report\n",
            "              precision    recall  f1-score   support\n",
            "\n",
            "           0       0.78      0.91      0.84       106\n",
            "           1       0.82      0.63      0.71        73\n",
            "\n",
            "    accuracy                           0.79       179\n",
            "   macro avg       0.80      0.77      0.78       179\n",
            "weighted avg       0.80      0.79      0.79       179\n",
            "\n",
            "\n",
            "MAE: 0.20670391061452514\n",
            "MSE: 0.20670391061452514\n",
            "RMSE: 0.454647017602145\n"
          ],
          "name": "stdout"
        },
        {
          "output_type": "display_data",
          "data": {
            "image/png": "[encoded data removed]",
            "text/plain": [
              "<Figure size 432x288 with 1 Axes>"
            ]
          },
          "metadata": {
            "tags": []
          }
        }
      ]
    },
    {
      "cell_type": "code",
      "metadata": {
        "id": "sQ0hotF-LC4W",
        "colab_type": "code",
        "colab": {}
      },
      "source": [
        "# GaussianNB"
      ],
      "execution_count": 0,
      "outputs": []
    },
    {
      "cell_type": "code",
      "metadata": {
        "id": "pTDG3HBJLHlm",
        "colab_type": "code",
        "colab": {
          "base_uri": "https://localhost:8080/",
          "height": 442
        },
        "outputId": "eb022e35-5f34-4ab1-b9dc-d84133eca164"
      },
      "source": [
        "from sklearn.naive_bayes import GaussianNB\n",
        "nb= GaussianNB()\n",
        "nb.fit(X_train,y_train)\n",
        "y_pred=nb.predict(X_test)\n",
        "\n",
        "from sklearn.metrics import confusion_matrix,accuracy_score,classification_report\n",
        "cm=confusion_matrix(y_pred,y_test)\n",
        "print('confusion matrix')\n",
        "print(cm)\n",
        "print()\n",
        "ac=accuracy_score(y_pred,y_test)\n",
        "print('accuracy score')\n",
        "print(ac)\n",
        "print()\n",
        "from sklearn.model_selection import cross_val_score\n",
        "score=cross_val_score(nb,X,y,cv=5)\n",
        "print('cross-validation')\n",
        "print(score)\n",
        "print(max(score))\n",
        "print()\n",
        "cr=classification_report(y_test,y_pred)\n",
        "print('Classification-report')\n",
        "print(cr)\n",
        "print()\n",
        "from sklearn import metrics\n",
        "print('MAE:', metrics.mean_absolute_error(y_test,y_pred))\n",
        "print('MSE:', metrics.mean_squared_error(y_test,y_pred))\n",
        "print('RMSE:', np.sqrt(metrics.mean_squared_error(y_test,y_pred)))"
      ],
      "execution_count": 13,
      "outputs": [
        {
          "output_type": "stream",
          "text": [
            "confusion matrix\n",
            "[[87 22]\n",
            " [19 51]]\n",
            "\n",
            "accuracy score\n",
            "0.770949720670391\n",
            "\n",
            "cross-validation\n",
            "[0.76536313 0.79775281 0.78651685 0.79213483 0.80337079]\n",
            "0.8033707865168539\n",
            "\n",
            "Classification-report\n",
            "              precision    recall  f1-score   support\n",
            "\n",
            "           0       0.80      0.82      0.81       106\n",
            "           1       0.73      0.70      0.71        73\n",
            "\n",
            "    accuracy                           0.77       179\n",
            "   macro avg       0.76      0.76      0.76       179\n",
            "weighted avg       0.77      0.77      0.77       179\n",
            "\n",
            "\n",
            "MAE: 0.22905027932960895\n",
            "MSE: 0.22905027932960895\n",
            "RMSE: 0.478591975830779\n"
          ],
          "name": "stdout"
        }
      ]
    },
    {
      "cell_type": "code",
      "metadata": {
        "id": "bDSo4cr8LJS8",
        "colab_type": "code",
        "colab": {}
      },
      "source": [
        "# KNeighborsClassifier"
      ],
      "execution_count": 0,
      "outputs": []
    },
    {
      "cell_type": "code",
      "metadata": {
        "id": "HFyTZIdMLOhK",
        "colab_type": "code",
        "colab": {
          "base_uri": "https://localhost:8080/",
          "height": 442
        },
        "outputId": "7e44f225-5288-4974-c347-1c8bda266fcf"
      },
      "source": [
        "from sklearn.neighbors import KNeighborsClassifier\n",
        "knn = KNeighborsClassifier(n_neighbors=5) \n",
        "knn.fit(X_train,y_train)\n",
        "y_pred=knn.predict(X_test)\n",
        "\n",
        "from sklearn.metrics import confusion_matrix,accuracy_score,classification_report\n",
        "cm=confusion_matrix(y_pred,y_test)\n",
        "print('confusion matrix')\n",
        "print(cm)\n",
        "print()\n",
        "ac=accuracy_score(y_pred,y_test)\n",
        "print('accuracy score')\n",
        "print(ac)\n",
        "print()\n",
        "from sklearn.model_selection import cross_val_score\n",
        "score=cross_val_score(knn,X,y,cv=5)\n",
        "print('cross-validation')\n",
        "print(score)\n",
        "print(max(score))\n",
        "print()\n",
        "cr=classification_report(y_test,y_pred)\n",
        "print('Classification-report')\n",
        "print(cr)\n",
        "print()\n",
        "from sklearn import metrics\n",
        "print('MAE:', metrics.mean_absolute_error(y_test,y_pred))\n",
        "print('MSE:', metrics.mean_squared_error(y_test,y_pred))\n",
        "print('RMSE:', np.sqrt(metrics.mean_squared_error(y_test,y_pred)))"
      ],
      "execution_count": 15,
      "outputs": [
        {
          "output_type": "stream",
          "text": [
            "confusion matrix\n",
            "[[90 33]\n",
            " [16 40]]\n",
            "\n",
            "accuracy score\n",
            "0.7262569832402235\n",
            "\n",
            "cross-validation\n",
            "[0.65921788 0.6741573  0.71348315 0.73033708 0.71348315]\n",
            "0.7303370786516854\n",
            "\n",
            "Classification-report\n",
            "              precision    recall  f1-score   support\n",
            "\n",
            "           0       0.73      0.85      0.79       106\n",
            "           1       0.71      0.55      0.62        73\n",
            "\n",
            "    accuracy                           0.73       179\n",
            "   macro avg       0.72      0.70      0.70       179\n",
            "weighted avg       0.72      0.73      0.72       179\n",
            "\n",
            "\n",
            "MAE: 0.2737430167597765\n",
            "MSE: 0.2737430167597765\n",
            "RMSE: 0.5232045649263551\n"
          ],
          "name": "stdout"
        }
      ]
    },
    {
      "cell_type": "code",
      "metadata": {
        "id": "KNwbUAmFLQGW",
        "colab_type": "code",
        "colab": {}
      },
      "source": [
        "# SVC(Support Vector Machine)"
      ],
      "execution_count": 0,
      "outputs": []
    },
    {
      "cell_type": "code",
      "metadata": {
        "id": "mzzzQnJvLTR4",
        "colab_type": "code",
        "colab": {
          "base_uri": "https://localhost:8080/",
          "height": 442
        },
        "outputId": "90e9d849-40d4-436e-80ed-0cb88f9a5515"
      },
      "source": [
        "from sklearn.svm import SVC\n",
        "svm_model=SVC(kernel='linear',random_state=0)\n",
        "svm_model.fit(X_train,y_train)\n",
        "y_pred=svm_model.predict(X_test)\n",
        "\n",
        "from sklearn.metrics import confusion_matrix,accuracy_score,classification_report\n",
        "cm=confusion_matrix(y_pred,y_test)\n",
        "print('confusion matrix')\n",
        "print(cm)\n",
        "print()\n",
        "ac=accuracy_score(y_pred,y_test)\n",
        "print('accuracy score')\n",
        "print(ac)\n",
        "print()\n",
        "from sklearn.model_selection import cross_val_score\n",
        "score=cross_val_score(knn,X,y,cv=5)\n",
        "print('cross-validation')\n",
        "print(score)\n",
        "print(max(score))\n",
        "print()\n",
        "cr=classification_report(y_test,y_pred)\n",
        "print('Classification-report')\n",
        "print(cr)\n",
        "print()\n",
        "from sklearn import metrics\n",
        "print('MAE:', metrics.mean_absolute_error(y_test,y_pred))\n",
        "print('MSE:', metrics.mean_squared_error(y_test,y_pred))\n",
        "print('RMSE:', np.sqrt(metrics.mean_squared_error(y_test,y_pred)))"
      ],
      "execution_count": 17,
      "outputs": [
        {
          "output_type": "stream",
          "text": [
            "confusion matrix\n",
            "[[90 24]\n",
            " [16 49]]\n",
            "\n",
            "accuracy score\n",
            "0.776536312849162\n",
            "\n",
            "cross-validation\n",
            "[0.65921788 0.6741573  0.71348315 0.73033708 0.71348315]\n",
            "0.7303370786516854\n",
            "\n",
            "Classification-report\n",
            "              precision    recall  f1-score   support\n",
            "\n",
            "           0       0.79      0.85      0.82       106\n",
            "           1       0.75      0.67      0.71        73\n",
            "\n",
            "    accuracy                           0.78       179\n",
            "   macro avg       0.77      0.76      0.76       179\n",
            "weighted avg       0.77      0.78      0.77       179\n",
            "\n",
            "\n",
            "MAE: 0.22346368715083798\n",
            "MSE: 0.22346368715083798\n",
            "RMSE: 0.47271945924706543\n"
          ],
          "name": "stdout"
        }
      ]
    }
  ]
}
