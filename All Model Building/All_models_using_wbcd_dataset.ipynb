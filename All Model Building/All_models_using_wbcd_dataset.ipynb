{
  "nbformat": 4,
  "nbformat_minor": 0,
  "metadata": {
    "colab": {
      "name": "All models using wbcd dataset.ipynb",
      "provenance": []
    },
    "kernelspec": {
      "name": "python3",
      "display_name": "Python 3"
    },
    "accelerator": "GPU"
  },
  "cells": [
    {
      "cell_type": "code",
      "metadata": {
        "id": "vGr-4O2RM22Z",
        "colab_type": "code",
        "colab": {}
      },
      "source": [
        "import numpy as np\n",
        "import pandas as pd\n",
        "import matplotlib.pyplot as plt\n",
        "import seaborn as sns\n",
        "\n",
        "import warnings\n",
        "warnings.filterwarnings(\"ignore\")"
      ],
      "execution_count": 0,
      "outputs": []
    },
    {
      "cell_type": "code",
      "metadata": {
        "id": "p8a6F2h1M443",
        "colab_type": "code",
        "colab": {}
      },
      "source": [
        "var=pd.read_csv('/content/wbcd.csv')\n",
        "\n",
        "dummies = {'B': 1, 'M': 0}\n",
        "var['diagnosis'] = var['diagnosis'].map(dummies)\n",
        "\n",
        "del var['id']\n",
        "y=var.diagnosis\n",
        "del var['diagnosis']\n",
        "X=var"
      ],
      "execution_count": 0,
      "outputs": []
    },
    {
      "cell_type": "code",
      "metadata": {
        "id": "Cdvx807dNJqT",
        "colab_type": "code",
        "colab": {}
      },
      "source": [
        "from sklearn.model_selection import train_test_split\n",
        "X_train , X_test , y_train , y_test = train_test_split(X,y,test_size=0.20)"
      ],
      "execution_count": 0,
      "outputs": []
    },
    {
      "cell_type": "code",
      "metadata": {
        "id": "BmYWqs8hNLbS",
        "colab_type": "code",
        "colab": {}
      },
      "source": [
        "from sklearn.linear_model import LogisticRegression\n",
        "lgreg_classifier=LogisticRegression(random_state=0)\n",
        "\n",
        "from sklearn.svm import SVC\n",
        "linearsvm_classifier = SVC(kernel = 'linear', random_state = 0)\n",
        "nonlinearsvm_classifier = SVC (kernel = 'rbf', random_state = 0)\n",
        "\n",
        "from sklearn.neighbors import KNeighborsClassifier\n",
        "knn_classifier = KNeighborsClassifier(n_neighbors=5) \n",
        "\n",
        "from sklearn.naive_bayes import GaussianNB\n",
        "nb_classifier= GaussianNB()\n",
        "\n",
        "from sklearn.tree import DecisionTreeClassifier\n",
        "tree_classifier = DecisionTreeClassifier(criterion = 'entropy', random_state = 0)\n",
        "\n",
        "from sklearn.ensemble import RandomForestClassifier\n",
        "forest_classifier = RandomForestClassifier(n_estimators = 10, criterion = 'entropy', random_state = 0)"
      ],
      "execution_count": 0,
      "outputs": []
    },
    {
      "cell_type": "code",
      "metadata": {
        "id": "zKLSDQOhNNS0",
        "colab_type": "code",
        "colab": {
          "base_uri": "https://localhost:8080/",
          "height": 153
        },
        "outputId": "2c8fbeeb-a713-4b50-84ca-c9ff0b47d7b0"
      },
      "source": [
        "lgreg_classifier.fit(X_train,y_train)\n",
        "linearsvm_classifier.fit(X_train,y_train)\n",
        "nonlinearsvm_classifier.fit(X_train,y_train)\n",
        "knn_classifier.fit(X_train,y_train)\n",
        "nb_classifier.fit(X_train,y_train)\n",
        "tree_classifier.fit(X_train,y_train)\n",
        "forest_classifier.fit(X_train,y_train)"
      ],
      "execution_count": 5,
      "outputs": [
        {
          "output_type": "execute_result",
          "data": {
            "text/plain": [
              "RandomForestClassifier(bootstrap=True, ccp_alpha=0.0, class_weight=None,\n",
              "                       criterion='entropy', max_depth=None, max_features='auto',\n",
              "                       max_leaf_nodes=None, max_samples=None,\n",
              "                       min_impurity_decrease=0.0, min_impurity_split=None,\n",
              "                       min_samples_leaf=1, min_samples_split=2,\n",
              "                       min_weight_fraction_leaf=0.0, n_estimators=10,\n",
              "                       n_jobs=None, oob_score=False, random_state=0, verbose=0,\n",
              "                       warm_start=False)"
            ]
          },
          "metadata": {
            "tags": []
          },
          "execution_count": 5
        }
      ]
    },
    {
      "cell_type": "code",
      "metadata": {
        "id": "6cspPvjbNRGJ",
        "colab_type": "code",
        "colab": {}
      },
      "source": [
        "LOGISTIC =  lgreg_classifier.predict(X_test)\n",
        "svmlinear=  linearsvm_classifier.predict(X_test)\n",
        "KNN      =  knn_classifier.predict(X_test)\n",
        "NB       =  nb_classifier.predict(X_test)\n",
        "TREE     =  tree_classifier.predict(X_test)\n",
        "FOREST   =  forest_classifier.predict(X_test)\n",
        "svmnon   =  nonlinearsvm_classifier.predict(X_test)"
      ],
      "execution_count": 0,
      "outputs": []
    },
    {
      "cell_type": "code",
      "metadata": {
        "id": "-oVMlQs7NVhi",
        "colab_type": "code",
        "colab": {
          "base_uri": "https://localhost:8080/",
          "height": 136
        },
        "outputId": "41a41cf9-c4b6-4c18-b351-5cc574f490a1"
      },
      "source": [
        "from sklearn.metrics import classification_report, confusion_matrix  ,accuracy_score\n",
        "from sklearn.model_selection import train_test_split\n",
        "\n",
        "logistic=accuracy_score(LOGISTIC,y_test)\n",
        "print('Logistic------------------>',logistic)\n",
        "\n",
        "linearac=accuracy_score(svmlinear,y_test)\n",
        "print('Linear SVM---------------->',linearac)\n",
        "\n",
        "nonlinearac=accuracy_score(svmnon,y_test)\n",
        "print('Non Linear SVM------------>',nonlinearac)\n",
        "\n",
        "knnac=accuracy_score(KNN,y_test)\n",
        "print('KNN----------------------->',knnac)\n",
        "\n",
        "treeac=accuracy_score(TREE,y_test)\n",
        "print('Decision Tree------------->',treeac)\n",
        "\n",
        "forestac=accuracy_score(FOREST,y_test)\n",
        "print('Random Forest------------->',forestac)\n",
        "\n",
        "nbac=accuracy_score(NB,y_test)\n",
        "print('NB Classifier------------->',nbac)"
      ],
      "execution_count": 7,
      "outputs": [
        {
          "output_type": "stream",
          "text": [
            "Logistic------------------> 0.9473684210526315\n",
            "Linear SVM----------------> 0.9473684210526315\n",
            "Non Linear SVM------------> 0.9298245614035088\n",
            "KNN-----------------------> 0.9385964912280702\n",
            "Decision Tree-------------> 0.9122807017543859\n",
            "Random Forest-------------> 0.9473684210526315\n",
            "NB Classifier-------------> 0.9649122807017544\n"
          ],
          "name": "stdout"
        }
      ]
    },
    {
      "cell_type": "code",
      "metadata": {
        "id": "WuRHPWgJNYNM",
        "colab_type": "code",
        "colab": {
          "base_uri": "https://localhost:8080/",
          "height": 350
        },
        "outputId": "e76c9908-f82f-4c1e-f319-b35b58f506ae"
      },
      "source": [
        "from sklearn.ensemble import RandomForestClassifier\n",
        "model = RandomForestClassifier(n_estimators = 10, criterion = 'entropy', random_state = 0)\n",
        "model.fit(X_train,y_train)\n",
        "print(model.feature_importances_)\n",
        "predictions=  model.predict(X_test)\n",
        "\n",
        "feat_importances = pd.Series(model.feature_importances_, index=X.columns)\n",
        "feat_importances.nlargest(10).plot(kind='barh')\n",
        "plt.show()"
      ],
      "execution_count": 8,
      "outputs": [
        {
          "output_type": "stream",
          "text": [
            "[0.04089477 0.0137291  0.02247241 0.02142348 0.00599226 0.00476296\n",
            " 0.0629201  0.12352581 0.00260849 0.0028349  0.02403988 0.00244983\n",
            " 0.01514812 0.13589424 0.00802209 0.00075484 0.00698898 0.00682277\n",
            " 0.00637568 0.00759954 0.04620269 0.0209981  0.11088355 0.09392955\n",
            " 0.01091154 0.01072042 0.01681816 0.14474489 0.01289386 0.01663698]\n"
          ],
          "name": "stdout"
        },
        {
          "output_type": "display_data",
          "data": {
            "image/png": "[encoded data removed]",
            "text/plain": [
              "<Figure size 432x288 with 1 Axes>"
            ]
          },
          "metadata": {
            "tags": []
          }
        }
      ]
    }
  ]
}